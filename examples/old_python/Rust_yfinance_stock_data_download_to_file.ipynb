{
 "cells": [
  {
   "cell_type": "markdown",
   "metadata": {},
   "source": [
    "# Simple Download stock data to file"
   ]
  },
  {
   "cell_type": "code",
   "execution_count": null,
   "metadata": {},
   "outputs": [],
   "source": [
    "# use python version 3.10.12\n",
    "\n",
    "# install necessary modules\n",
    "%pip install --user yfinance==0.2.40\n",
    "%pip install pandas_datareader\n",
    "\n",
    "from datetime import datetime\n",
    "import yfinance as yf\n",
    "\n",
    "stocks = ['CROX', ] #TREX\n",
    "for stock in stocks:\n",
    "    data = yf.download(stock, start='2022-01-01')\n",
    "    data.to_csv(stock + \".csv\", mode=\"w\")"
   ]
  },
  {
   "cell_type": "markdown",
   "metadata": {},
   "source": [
    "[pandas-read-write-files](https://realpython.com/pandas-read-write-files/)"
   ]
  },
  {
   "cell_type": "code",
   "execution_count": null,
   "metadata": {},
   "outputs": [],
   "source": [
    "# use python version 3.10.12\n",
    "\n",
    "# install necessary modules\n",
    "# %pip install --user yfinance==0.2.40\n",
    "%pip install pandas\n",
    "\n",
    "import pandas as pd\n",
    "df = pd.read_csv('TREX.csv', index_col=0)\n",
    "df"
   ]
  }
 ],
 "metadata": {
  "kernelspec": {
   "display_name": "Python 3",
   "language": "python",
   "name": "python3"
  },
  "language_info": {
   "codemirror_mode": {
    "name": "ipython",
    "version": 3
   },
   "file_extension": ".py",
   "mimetype": "text/x-python",
   "name": "python",
   "nbconvert_exporter": "python",
   "pygments_lexer": "ipython3",
   "version": "3.9.2"
  }
 },
 "nbformat": 4,
 "nbformat_minor": 2
}
