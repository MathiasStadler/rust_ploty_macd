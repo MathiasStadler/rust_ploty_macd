{
 "cells": [
  {
   "cell_type": "markdown",
   "metadata": {},
   "source": [
    "[FROM HERE](https://medium.com/@mlblogging.k/free-financial-data-sources-4283846ba9f5)"
   ]
  },
  {
   "cell_type": "markdown",
   "metadata": {},
   "source": [
    "## load stock data from stooq\n",
    "\n",
    "## load libraries"
   ]
  },
  {
   "cell_type": "code",
   "execution_count": null,
   "metadata": {},
   "outputs": [],
   "source": [
    "%pip install --user investpy"
   ]
  },
  {
   "cell_type": "code",
   "execution_count": null,
   "metadata": {},
   "outputs": [],
   "source": [
    "import investpy\n",
    "df = investpy.get_stock_historical_data(\n",
    "stock='MSFT',\n",
    "country='United States',\n",
    "from_date='01/01/2023',\n",
    "to_date='11/07/2024'\n",
    ")\n",
    "print(df.head())"
   ]
  },
  {
   "cell_type": "markdown",
   "metadata": {},
   "source": [
    "## Stooq -works 05.06.2024"
   ]
  },
  {
   "cell_type": "code",
   "execution_count": null,
   "metadata": {},
   "outputs": [],
   "source": [
    "%pip install --user pandas_datareader"
   ]
  },
  {
   "cell_type": "code",
   "execution_count": null,
   "metadata": {},
   "outputs": [],
   "source": [
    "import pandas_datareader as pdr\n",
    "dfr=pdr.stooq.StooqDailyReader(\n",
    "# symbols=[ 'META.US', 'MSFT.US', 'GOOG.US'],\n",
    "symbols=[ 'TREX.US'],\n",
    "start='1/1/14',\n",
    "end='31/12/24'\n",
    ")\n",
    "df = dfr.read()\n",
    "# print(df.head())\n",
    "## save to file\n",
    "df.to_csv('TREX.csv')"
   ]
  },
  {
   "cell_type": "code",
   "execution_count": 1,
   "metadata": {},
   "outputs": [],
   "source": [
    "import pandas_datareader as pdr\n",
    "dfr = pdr.stooq.StooqDailyReader(\n",
    "# symbols=[ 'META.US', 'MSFT.US', 'GOOG.US'],\n",
    "symbols=[ 'CROX.US'],\n",
    "start='1/1/14',\n",
    "end='31/12/24'\n",
    ")\n",
    "df = dfr.read()\n",
    "# print(df.head())\n",
    "## save to file\n",
    "df.to_csv('CROX.csv')"
   ]
  },
  {
   "cell_type": "markdown",
   "metadata": {},
   "source": [
    "# yahoo"
   ]
  },
  {
   "cell_type": "code",
   "execution_count": null,
   "metadata": {},
   "outputs": [],
   "source": [
    "%pip install --user yfinance==0.2.40"
   ]
  },
  {
   "cell_type": "code",
   "execution_count": null,
   "metadata": {},
   "outputs": [],
   "source": [
    "import yfinance as yf\n",
    "msft = yf.Ticker(\"MSFT\")\n",
    "# get stock info\n",
    "msft.info# get historical market data\n",
    "hist = msft.history(period=\"max\")# show actions (dividends, splits)\n",
    "msft.actions# show dividends\n",
    "msft.dividends# show splits\n",
    "msft.splits# show financials\n",
    "msft.financials\n",
    "msft.quarterly_financials# show major holders\n",
    "msft.major_holders# show institutional holders\n",
    "msft.institutional_holders# show balance sheet\n",
    "balance_sheet = msft.balance_sheet\n",
    "# balance_sheet\n",
    "msft.quarterly_balance_sheet# show cashflow\n",
    "msft.cashflow\n",
    "msft.quarterly_cashflow# show earnings\n",
    "# msft.earnings\n",
    "# msft.quarterly_earnings# show sustainability\n",
    "# msft.sustainability# show analysts recommendations\n",
    "msft.recommendations# show next event (earnings, etc)\n",
    "msft.calendar# show all earnings dates\n",
    "# msft.earnings_dates# show ISIN code - *experimental*\n",
    "# ISIN = International Securities Identification Number\n",
    "msft.isin# show options expirations\n",
    "msft.options# show news\n",
    "msft.news# get option chain for specific expiration\n",
    "# opt = msft.option_chain('2024-12-20')\n",
    "# opt\n",
    "\n",
    "\n",
    "# data available via: opt.calls, opt.puts"
   ]
  },
  {
   "cell_type": "markdown",
   "metadata": {},
   "source": [
    "[https://pythoninvest.com long-read via google](https://www.google.com/search?channel=fs&client=ubuntu-sn&q=https%3A%2F%2Fpythoninvest.com+long-read)"
   ]
  },
  {
   "cell_type": "markdown",
   "metadata": {},
   "source": [
    "## [stock fundamental-ratios](https://stackoverflow.com/questions/60428931/how-can-i-using-yfinance-to-get-fundamental-ratios-such-as-p-e-p-b)"
   ]
  },
  {
   "cell_type": "code",
   "execution_count": null,
   "metadata": {},
   "outputs": [],
   "source": [
    "%pip install yahoo_fin\n",
    "%pip install requests_html"
   ]
  },
  {
   "cell_type": "code",
   "execution_count": null,
   "metadata": {},
   "outputs": [],
   "source": [
    "import yahoo_fin.stock_info as si\n",
    "msft_data = si.get_quote_table(\"MSFT\")"
   ]
  },
  {
   "cell_type": "code",
   "execution_count": null,
   "metadata": {},
   "outputs": [],
   "source": [
    "# works\n",
    "from IPython.core.interactiveshell import InteractiveShell\n",
    "import yfinance as yf\n",
    "InteractiveShell.ast_node_interactivity = \"all\"\n",
    "\n",
    "import pandas as pd\n",
    "microsoft = yf.Ticker('MSFT')\n",
    "dict =  microsoft.info\n",
    "df = pd.DataFrame.from_dict(dict,orient='index')\n",
    "df = df.reset_index()\n",
    "df.to_csv('TREX_stock_data.csv')"
   ]
  }
 ],
 "metadata": {
  "kernelspec": {
   "display_name": "Python 3",
   "language": "python",
   "name": "python3"
  },
  "language_info": {
   "codemirror_mode": {
    "name": "ipython",
    "version": 3
   },
   "file_extension": ".py",
   "mimetype": "text/x-python",
   "name": "python",
   "nbconvert_exporter": "python",
   "pygments_lexer": "ipython3",
   "version": "3.10.12"
  }
 },
 "nbformat": 4,
 "nbformat_minor": 2
}
