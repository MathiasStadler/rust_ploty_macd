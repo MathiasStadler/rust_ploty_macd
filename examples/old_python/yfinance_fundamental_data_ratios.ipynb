{
 "cells": [
  {
   "cell_type": "markdown",
   "metadata": {},
   "source": [
    "#[FROM HERE](https://stackoverflow.com/questions/60428931/how-can-i-using-yfinance-to-get-fundamental-ratios-such-as-p-e-p-b)\n",
    "\n",
    "#[GITHUB](https://github.com/ranaroussi/yfinance)"
   ]
  },
  {
   "cell_type": "code",
   "execution_count": null,
   "metadata": {},
   "outputs": [],
   "source": [
    "%pip install --user yahoo_fin\n",
    "%pip install --user requests_html\n",
    "%pip install --user lxml\n",
    "%pip install --user lxml_html_clean"
   ]
  },
  {
   "cell_type": "code",
   "execution_count": null,
   "metadata": {},
   "outputs": [],
   "source": [
    "import lxml\n",
    "import lxml_html_clean\n",
    "import requests_html\n",
    "import yahoo_fin.stock_info as si\n",
    "import yahoo_fin as yf\n",
    "import pandas as pd \n",
    "# msft_data = si.get_quote_table(\"MSFT\")\n",
    "microsoft = yf.Ticker('MSFT')\n",
    "dict =  microsoft.info\n",
    "df = pd.DataFrame.from_dict(dict,orient='index')\n",
    "df = df.reset_index()\n"
   ]
  },
  {
   "cell_type": "markdown",
   "metadata": {},
   "source": [
    "## [FROM HERE](https://aroussi.com/post/python-yahoo-finance)"
   ]
  },
  {
   "cell_type": "code",
   "execution_count": 12,
   "metadata": {},
   "outputs": [
    {
     "name": "stdout",
     "output_type": "stream",
     "text": [
      "Requirement already satisfied: yfinance==0.2.40 in /home/trapapa/.local/lib/python3.10/site-packages (0.2.40)\n",
      "Requirement already satisfied: html5lib>=1.1 in /usr/lib/python3/dist-packages (from yfinance==0.2.40) (1.1)\n",
      "Requirement already satisfied: beautifulsoup4>=4.11.1 in /home/trapapa/.local/lib/python3.10/site-packages (from yfinance==0.2.40) (4.12.3)\n",
      "Requirement already satisfied: lxml>=4.9.1 in /home/trapapa/.local/lib/python3.10/site-packages (from yfinance==0.2.40) (5.2.2)\n",
      "Requirement already satisfied: platformdirs>=2.0.0 in /home/trapapa/.local/lib/python3.10/site-packages (from yfinance==0.2.40) (2.6.0)\n",
      "Requirement already satisfied: multitasking>=0.0.7 in /home/trapapa/.local/lib/python3.10/site-packages (from yfinance==0.2.40) (0.0.11)\n",
      "Requirement already satisfied: pandas>=1.3.0 in /home/trapapa/.local/lib/python3.10/site-packages (from yfinance==0.2.40) (1.5.3)\n",
      "Requirement already satisfied: requests>=2.31 in /home/trapapa/.local/lib/python3.10/site-packages (from yfinance==0.2.40) (2.32.3)\n",
      "Requirement already satisfied: pytz>=2022.5 in /home/trapapa/.local/lib/python3.10/site-packages (from yfinance==0.2.40) (2024.1)\n",
      "Requirement already satisfied: frozendict>=2.3.4 in /home/trapapa/.local/lib/python3.10/site-packages (from yfinance==0.2.40) (2.4.4)\n",
      "Requirement already satisfied: peewee>=3.16.2 in /home/trapapa/.local/lib/python3.10/site-packages (from yfinance==0.2.40) (3.17.5)\n",
      "Requirement already satisfied: numpy>=1.16.5 in /home/trapapa/.local/lib/python3.10/site-packages (from yfinance==0.2.40) (1.24.1)\n",
      "Requirement already satisfied: soupsieve>1.2 in /usr/lib/python3/dist-packages (from beautifulsoup4>=4.11.1->yfinance==0.2.40) (2.3.1)\n",
      "Requirement already satisfied: python-dateutil>=2.8.1 in /home/trapapa/.local/lib/python3.10/site-packages (from pandas>=1.3.0->yfinance==0.2.40) (2.8.2)\n",
      "Requirement already satisfied: certifi>=2017.4.17 in /home/trapapa/.local/lib/python3.10/site-packages (from requests>=2.31->yfinance==0.2.40) (2024.6.2)\n",
      "Requirement already satisfied: urllib3<3,>=1.21.1 in /usr/lib/python3/dist-packages (from requests>=2.31->yfinance==0.2.40) (1.26.5)\n",
      "Requirement already satisfied: charset-normalizer<4,>=2 in /home/trapapa/.local/lib/python3.10/site-packages (from requests>=2.31->yfinance==0.2.40) (3.3.2)\n",
      "Requirement already satisfied: idna<4,>=2.5 in /usr/lib/python3/dist-packages (from requests>=2.31->yfinance==0.2.40) (3.3)\n",
      "Requirement already satisfied: six>=1.5 in /usr/lib/python3/dist-packages (from python-dateutil>=2.8.1->pandas>=1.3.0->yfinance==0.2.40) (1.16.0)\n",
      "Note: you may need to restart the kernel to use updated packages.\n"
     ]
    }
   ],
   "source": [
    "%pip install --user yfinance==0.2.40"
   ]
  },
  {
   "cell_type": "code",
   "execution_count": 23,
   "metadata": {},
   "outputs": [
    {
     "name": "stdout",
     "output_type": "stream",
     "text": [
      "yfinance.Ticker object <MSFT>\n"
     ]
    },
    {
     "data": {
      "text/html": [
       "<div>\n",
       "<style scoped>\n",
       "    .dataframe tbody tr th:only-of-type {\n",
       "        vertical-align: middle;\n",
       "    }\n",
       "\n",
       "    .dataframe tbody tr th {\n",
       "        vertical-align: top;\n",
       "    }\n",
       "\n",
       "    .dataframe thead th {\n",
       "        text-align: right;\n",
       "    }\n",
       "</style>\n",
       "<table border=\"1\" class=\"dataframe\">\n",
       "  <thead>\n",
       "    <tr style=\"text-align: right;\">\n",
       "      <th></th>\n",
       "      <th>index</th>\n",
       "      <th>0</th>\n",
       "    </tr>\n",
       "  </thead>\n",
       "  <tbody>\n",
       "    <tr>\n",
       "      <th>0</th>\n",
       "      <td>address1</td>\n",
       "      <td>One Microsoft Way</td>\n",
       "    </tr>\n",
       "    <tr>\n",
       "      <th>1</th>\n",
       "      <td>city</td>\n",
       "      <td>Redmond</td>\n",
       "    </tr>\n",
       "    <tr>\n",
       "      <th>2</th>\n",
       "      <td>state</td>\n",
       "      <td>WA</td>\n",
       "    </tr>\n",
       "    <tr>\n",
       "      <th>3</th>\n",
       "      <td>zip</td>\n",
       "      <td>98052-6399</td>\n",
       "    </tr>\n",
       "    <tr>\n",
       "      <th>4</th>\n",
       "      <td>country</td>\n",
       "      <td>United States</td>\n",
       "    </tr>\n",
       "    <tr>\n",
       "      <th>...</th>\n",
       "      <td>...</td>\n",
       "      <td>...</td>\n",
       "    </tr>\n",
       "    <tr>\n",
       "      <th>127</th>\n",
       "      <td>grossMargins</td>\n",
       "      <td>0.69894</td>\n",
       "    </tr>\n",
       "    <tr>\n",
       "      <th>128</th>\n",
       "      <td>ebitdaMargins</td>\n",
       "      <td>0.52912</td>\n",
       "    </tr>\n",
       "    <tr>\n",
       "      <th>129</th>\n",
       "      <td>operatingMargins</td>\n",
       "      <td>0.44588</td>\n",
       "    </tr>\n",
       "    <tr>\n",
       "      <th>130</th>\n",
       "      <td>financialCurrency</td>\n",
       "      <td>USD</td>\n",
       "    </tr>\n",
       "    <tr>\n",
       "      <th>131</th>\n",
       "      <td>trailingPegRatio</td>\n",
       "      <td>2.0514</td>\n",
       "    </tr>\n",
       "  </tbody>\n",
       "</table>\n",
       "<p>132 rows × 2 columns</p>\n",
       "</div>"
      ],
      "text/plain": [
       "                 index                  0\n",
       "0             address1  One Microsoft Way\n",
       "1                 city            Redmond\n",
       "2                state                 WA\n",
       "3                  zip         98052-6399\n",
       "4              country      United States\n",
       "..                 ...                ...\n",
       "127       grossMargins            0.69894\n",
       "128      ebitdaMargins            0.52912\n",
       "129   operatingMargins            0.44588\n",
       "130  financialCurrency                USD\n",
       "131   trailingPegRatio             2.0514\n",
       "\n",
       "[132 rows x 2 columns]"
      ]
     },
     "execution_count": 23,
     "metadata": {},
     "output_type": "execute_result"
    }
   ],
   "source": [
    "import yfinance as yf\n",
    "import pandas as pd\n",
    "\n",
    "msft = yf.Ticker(\"MSFT\")\n",
    "print(msft)\n",
    "\n",
    "# get stock info\n",
    "# msft.info\n",
    "dict = msft.info\n",
    "# dict\n",
    "# msft.ticker\n",
    "# msft.info\n",
    "# dict =  msft.info\n",
    "df = pd.DataFrame.from_dict(dict,orient='index')\n",
    "\n",
    "df = df.reset_index()\n",
    "df"
   ]
  }
 ],
 "metadata": {
  "kernelspec": {
   "display_name": "Python 3",
   "language": "python",
   "name": "python3"
  },
  "language_info": {
   "codemirror_mode": {
    "name": "ipython",
    "version": 3
   },
   "file_extension": ".py",
   "mimetype": "text/x-python",
   "name": "python",
   "nbconvert_exporter": "python",
   "pygments_lexer": "ipython3",
   "version": "3.10.12"
  }
 },
 "nbformat": 4,
 "nbformat_minor": 2
}
