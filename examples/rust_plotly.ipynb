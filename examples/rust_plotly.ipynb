{
 "cells": [
  {
   "cell_type": "markdown",
   "metadata": {},
   "source": [
    "!wget -qO- https://gist.github.com/wiseaidev/2af6bef753d48565d11bcd478728c979/archive/3f6df40db09f3517ade41997b541b81f0976c12e.tar.gz | tar xvz --strip-components=1\n",
    "!bash setup_evcxr_kernel.sh"
   ]
  },
  {
   "cell_type": "markdown",
   "metadata": {},
   "source": [
    "[FROM HERE](https://crates.io/crates/plotly)\n"
   ]
  },
  {
   "cell_type": "code",
   "execution_count": 3,
   "metadata": {
    "vscode": {
     "languageId": "rust"
    }
   },
   "outputs": [],
   "source": [
    ":dep plotly"
   ]
  },
  {
   "cell_type": "code",
   "execution_count": 7,
   "metadata": {
    "vscode": {
     "languageId": "rust"
    }
   },
   "outputs": [],
   "source": [
    "\n",
    "use plotly::{Plot, Scatter};\n",
    "\n",
    "let mut plot = Plot::new();\n",
    "let trace = Scatter::new(vec![0, 1, 2], vec![2, 1, 0]);\n",
    "plot.add_trace(trace);\n",
    "\n",
    "// plot.write_html(\"out.html\");\n",
    "\n",
    "// <-- Create a `Plot` -->\n",
    "\n",
    "plot.show(); // The default web browser will open, displaying an interactive plot\n"
   ]
  },
  {
   "cell_type": "code",
   "execution_count": null,
   "metadata": {
    "vscode": {
     "languageId": "rust"
    }
   },
   "outputs": [],
   "source": [
    ":dep plotly = {version = \"0.4.0\"}\n",
    ":dep nanoid = {version = \"0.3.0\"}"
   ]
  },
  {
   "cell_type": "markdown",
   "metadata": {},
   "source": [
    "FROM HERE\n",
    "https://datacrayon.com/data-analysis-with-rust-notebooks/better-plotting-with-plotly/"
   ]
  },
  {
   "cell_type": "code",
   "execution_count": 8,
   "metadata": {
    "vscode": {
     "languageId": "rust"
    }
   },
   "outputs": [
    {
     "name": "stderr",
     "output_type": "stream",
     "text": [
      "The type of the variable plot was redefined, so was lost.\n"
     ]
    }
   ],
   "source": [
    "extern crate plotly;\n",
    "extern crate nanoid;\n",
    "\n",
    "use plotly::{Plot, Scatter};\n",
    "use plotly::common::{Mode};\n",
    "use nanoid::nanoid;\n",
    "use std::fs;\n",
    "\n",
    "let plotly_file = \"temp_plot.html\";"
   ]
  }
 ],
 "metadata": {
  "kernelspec": {
   "display_name": "Rust",
   "language": "rust",
   "name": "rust"
  },
  "language_info": {
   "codemirror_mode": "rust",
   "file_extension": ".rs",
   "mimetype": "text/rust",
   "name": "Rust",
   "pygment_lexer": "rust",
   "version": ""
  }
 },
 "nbformat": 4,
 "nbformat_minor": 2
}
