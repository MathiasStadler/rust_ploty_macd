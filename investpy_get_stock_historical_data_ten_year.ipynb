{
 "cells": [
  {
   "cell_type": "markdown",
   "metadata": {},
   "source": [
    "[FROM HERE](https://medium.com/@mlblogging.k/free-financial-data-sources-4283846ba9f5)"
   ]
  },
  {
   "cell_type": "markdown",
   "metadata": {},
   "source": [
    "## load libraries"
   ]
  },
  {
   "cell_type": "code",
   "execution_count": null,
   "metadata": {},
   "outputs": [],
   "source": [
    "%pip install --user investpy"
   ]
  },
  {
   "cell_type": "code",
   "execution_count": null,
   "metadata": {},
   "outputs": [],
   "source": [
    "import investpy\n",
    "df = investpy.get_stock_historical_data(\n",
    "stock='MSFT',\n",
    "country='United States',\n",
    "from_date='01/01/2023',\n",
    "to_date='11/07/2024'\n",
    ")\n",
    "print(df.head())"
   ]
  },
  {
   "cell_type": "markdown",
   "metadata": {},
   "source": [
    "## Stooq -works 05.06.2024"
   ]
  },
  {
   "cell_type": "code",
   "execution_count": null,
   "metadata": {},
   "outputs": [],
   "source": [
    "%pip install --user pandas_datareader"
   ]
  },
  {
   "cell_type": "code",
   "execution_count": 3,
   "metadata": {},
   "outputs": [],
   "source": [
    "import pandas_datareader as pdr\n",
    "dfr = pdr.stooq.StooqDailyReader(\n",
    "# symbols=[ 'META.US', 'MSFT.US', 'GOOG.US'],\n",
    "symbols=[ 'TREX.US'],\n",
    "start='1/1/14',\n",
    "end='31/12/24'\n",
    ")\n",
    "df = dfr.read()\n",
    "# print(df.head())\n",
    "## save to file\n",
    "df.to_csv('TREX.csv')"
   ]
  },
  {
   "cell_type": "markdown",
   "metadata": {},
   "source": [
    "# yahoo"
   ]
  },
  {
   "cell_type": "code",
   "execution_count": null,
   "metadata": {},
   "outputs": [],
   "source": [
    "%pip install --user yfinance==0.2.40"
   ]
  },
  {
   "cell_type": "code",
   "execution_count": 9,
   "metadata": {},
   "outputs": [
    {
     "data": {
      "text/plain": [
       "Options(calls=         contractSymbol             lastTradeDate  strike  lastPrice     bid  \\\n",
       "0   MSFT241220C00125000 2024-04-26 13:33:12+00:00   125.0     286.14  306.00   \n",
       "1   MSFT241220C00130000 2024-04-26 13:33:12+00:00   130.0     281.44  301.00   \n",
       "2   MSFT241220C00135000 2024-03-04 18:06:35+00:00   135.0     286.75  287.00   \n",
       "3   MSFT241220C00140000 2023-12-22 15:57:20+00:00   140.0     238.61  266.05   \n",
       "4   MSFT241220C00145000 2023-09-13 13:35:42+00:00   145.0     197.00  188.00   \n",
       "..                  ...                       ...     ...        ...     ...   \n",
       "85  MSFT241220C00570000 2024-06-04 14:25:17+00:00   570.0       0.83    0.00   \n",
       "86  MSFT241220C00580000 2024-06-04 18:16:30+00:00   580.0       0.65    0.00   \n",
       "87  MSFT241220C00600000 2024-06-04 19:47:48+00:00   600.0       0.42    0.00   \n",
       "88  MSFT241220C00620000 2024-06-04 19:39:45+00:00   620.0       0.25    0.00   \n",
       "89  MSFT241220C00640000 2024-05-31 14:32:57+00:00   640.0       0.16    0.00   \n",
       "\n",
       "       ask  change  percentChange  volume  openInterest  impliedVolatility  \\\n",
       "0   310.15     0.0            0.0       1            48           1.526736   \n",
       "1   305.40     0.0            0.0       1            13           1.484194   \n",
       "2   291.15     0.0            0.0       1             1           1.144291   \n",
       "3   270.45     0.0            0.0       1             0           0.000010   \n",
       "4   192.15     0.0            0.0       2             3           0.000010   \n",
       "..     ...     ...            ...     ...           ...                ...   \n",
       "85    0.00     0.0            0.0       3             0           0.062509   \n",
       "86    0.00     0.0            0.0      16             0           0.062509   \n",
       "87    0.00     0.0            0.0      12             0           0.125009   \n",
       "88    0.00     0.0            0.0       4             0           0.125009   \n",
       "89    0.00     0.0            0.0      16             0           0.125009   \n",
       "\n",
       "    inTheMoney contractSize currency  \n",
       "0         True      REGULAR      USD  \n",
       "1         True      REGULAR      USD  \n",
       "2         True      REGULAR      USD  \n",
       "3         True      REGULAR      USD  \n",
       "4         True      REGULAR      USD  \n",
       "..         ...          ...      ...  \n",
       "85       False      REGULAR      USD  \n",
       "86       False      REGULAR      USD  \n",
       "87       False      REGULAR      USD  \n",
       "88       False      REGULAR      USD  \n",
       "89       False      REGULAR      USD  \n",
       "\n",
       "[90 rows x 14 columns], puts=         contractSymbol             lastTradeDate  strike  lastPrice     bid  \\\n",
       "0   MSFT241220P00125000 2024-05-31 14:22:11+00:00   125.0       0.02    0.00   \n",
       "1   MSFT241220P00130000 2024-02-01 18:37:50+00:00   130.0       0.06    0.00   \n",
       "2   MSFT241220P00135000 2024-02-21 20:33:47+00:00   135.0       0.08    0.00   \n",
       "3   MSFT241220P00140000 2024-05-16 18:21:13+00:00   140.0       0.04    0.00   \n",
       "4   MSFT241220P00145000 2024-02-07 19:40:14+00:00   145.0       0.09    0.03   \n",
       "..                  ...                       ...     ...        ...     ...   \n",
       "83  MSFT241220P00550000 2024-06-03 16:14:35+00:00   550.0     139.30    0.00   \n",
       "84  MSFT241220P00570000 2024-01-19 16:26:01+00:00   570.0     174.15  164.20   \n",
       "85  MSFT241220P00580000 2024-02-22 18:20:39+00:00   580.0     170.02  149.00   \n",
       "86  MSFT241220P00600000 2024-05-15 19:48:00+00:00   600.0     176.57    0.00   \n",
       "87  MSFT241220P00620000 2024-05-15 19:48:00+00:00   620.0     196.59    0.00   \n",
       "\n",
       "       ask  change  percentChange  volume  openInterest  impliedVolatility  \\\n",
       "0     0.00     0.0            0.0      60             0           0.250007   \n",
       "1     0.21     0.0            0.0      10           458           0.583989   \n",
       "2     0.20     0.0            0.0      20          1638           0.562504   \n",
       "3     0.00     0.0            0.0       1             0           0.250007   \n",
       "4     0.17     0.0            0.0      13          2320           0.529302   \n",
       "..     ...     ...            ...     ...           ...                ...   \n",
       "83    0.00     0.0            0.0       1             0           0.000010   \n",
       "84  168.10     0.0            0.0       2             0           0.443731   \n",
       "85  152.75     0.0            0.0       2             0           0.000010   \n",
       "86    0.00     0.0            0.0      10             0           0.000010   \n",
       "87    0.00     0.0            0.0       3             0           0.000010   \n",
       "\n",
       "    inTheMoney contractSize currency  \n",
       "0        False      REGULAR      USD  \n",
       "1        False      REGULAR      USD  \n",
       "2        False      REGULAR      USD  \n",
       "3        False      REGULAR      USD  \n",
       "4        False      REGULAR      USD  \n",
       "..         ...          ...      ...  \n",
       "83        True      REGULAR      USD  \n",
       "84        True      REGULAR      USD  \n",
       "85        True      REGULAR      USD  \n",
       "86        True      REGULAR      USD  \n",
       "87        True      REGULAR      USD  \n",
       "\n",
       "[88 rows x 14 columns], underlying={'language': 'en-US', 'region': 'US', 'quoteType': 'EQUITY', 'typeDisp': 'Equity', 'quoteSourceName': 'Nasdaq Real Time Price', 'triggerable': True, 'customPriceAlertConfidence': 'HIGH', 'currency': 'USD', 'marketState': 'PRE', 'regularMarketChangePercent': 0.6166614, 'regularMarketPrice': 416.07, 'exchange': 'NMS', 'shortName': 'Microsoft Corporation', 'longName': 'Microsoft Corporation', 'messageBoardId': 'finmb_21835', 'exchangeTimezoneName': 'America/New_York', 'exchangeTimezoneShortName': 'EDT', 'gmtOffSetMilliseconds': -14400000, 'market': 'us_market', 'esgPopulated': False, 'hasPrePostMarketData': True, 'firstTradeDateMilliseconds': 511108200000, 'priceHint': 2, 'preMarketChange': 1.6499939, 'preMarketChangePercent': 0.39656642, 'preMarketTime': 1717579309, 'preMarketPrice': 417.72, 'regularMarketChange': 2.5500183, 'regularMarketTime': 1717531201, 'regularMarketDayHigh': 416.44, 'regularMarketDayRange': '409.675 - 416.44', 'regularMarketDayLow': 409.675, 'regularMarketVolume': 13557826, 'regularMarketPreviousClose': 413.52, 'bid': 415.95, 'ask': 416.12, 'bidSize': 1, 'askSize': 2, 'fullExchangeName': 'NasdaqGS', 'financialCurrency': 'USD', 'regularMarketOpen': 412.08, 'averageDailyVolume3Month': 19836049, 'averageDailyVolume10Day': 20729820, 'fiftyTwoWeekLowChange': 106.619995, 'fiftyTwoWeekLowChangePercent': 0.34454674, 'fiftyTwoWeekRange': '309.45 - 433.6', 'fiftyTwoWeekHighChange': -17.529999, 'fiftyTwoWeekHighChangePercent': -0.040428963, 'fiftyTwoWeekLow': 309.45, 'fiftyTwoWeekHigh': 433.6, 'fiftyTwoWeekChangePercent': 28.662872, 'dividendDate': 1718236800, 'earningsTimestamp': 1714075200, 'earningsTimestampStart': 1721732340, 'earningsTimestampEnd': 1722254400, 'earningsCallTimestampStart': 1714080600, 'earningsCallTimestampEnd': 1714080600, 'isEarningsDateEstimate': True, 'trailingAnnualDividendRate': 2.93, 'trailingPE': 36.085865, 'dividendRate': 3.0, 'trailingAnnualDividendYield': 0.00708551, 'dividendYield': 0.72, 'epsTrailingTwelveMonths': 11.53, 'epsForward': 13.26, 'epsCurrentYear': 11.79, 'priceEpsCurrentYear': 35.290077, 'sharesOutstanding': 7432309760, 'bookValue': 34.058, 'fiftyDayAverage': 415.8776, 'fiftyDayAverageChange': 0.19241333, 'fiftyDayAverageChangePercent': 0.0004626682, 'twoHundredDayAverage': 379.92606, 'twoHundredDayAverageChange': 36.14395, 'twoHundredDayAverageChangePercent': 0.09513418, 'marketCap': 3092361248768, 'forwardPE': 31.377829, 'priceToBook': 12.216514, 'sourceInterval': 15, 'exchangeDataDelayedBy': 0, 'averageAnalystRating': '1.7 - Buy', 'tradeable': False, 'cryptoTradeable': False, 'displayName': 'Microsoft', 'symbol': 'MSFT'})"
      ]
     },
     "execution_count": 9,
     "metadata": {},
     "output_type": "execute_result"
    }
   ],
   "source": [
    "import yfinance as yf\n",
    "msft = yf.Ticker(\"MSFT\")\n",
    "# get stock info\n",
    "msft.info# get historical market data\n",
    "hist = msft.history(period=\"max\")# show actions (dividends, splits)\n",
    "msft.actions# show dividends\n",
    "msft.dividends# show splits\n",
    "msft.splits# show financials\n",
    "msft.financials\n",
    "msft.quarterly_financials# show major holders\n",
    "msft.major_holders# show institutional holders\n",
    "msft.institutional_holders# show balance sheet\n",
    "balance_sheet = msft.balance_sheet\n",
    "balance_sheet\n",
    "msft.quarterly_balance_sheet# show cashflow\n",
    "msft.cashflow\n",
    "msft.quarterly_cashflow# show earnings\n",
    "# msft.earnings\n",
    "# msft.quarterly_earnings# show sustainability\n",
    "# msft.sustainability# show analysts recommendations\n",
    "msft.recommendations# show next event (earnings, etc)\n",
    "msft.calendar# show all earnings dates\n",
    "# msft.earnings_dates# show ISIN code - *experimental*\n",
    "# ISIN = International Securities Identification Number\n",
    "msft.isin# show options expirations\n",
    "msft.options# show news\n",
    "msft.news# get option chain for specific expiration\n",
    "opt = msft.option_chain('2024-12-20')\n",
    "opt\n",
    "\n",
    "# data available via: opt.calls, opt.puts"
   ]
  },
  {
   "cell_type": "markdown",
   "metadata": {},
   "source": [
    "[https://pythoninvest.com long-read via google](https://www.google.com/search?channel=fs&client=ubuntu-sn&q=https%3A%2F%2Fpythoninvest.com+long-read)"
   ]
  }
 ],
 "metadata": {
  "kernelspec": {
   "display_name": "Python 3",
   "language": "python",
   "name": "python3"
  },
  "language_info": {
   "codemirror_mode": {
    "name": "ipython",
    "version": 3
   },
   "file_extension": ".py",
   "mimetype": "text/x-python",
   "name": "python",
   "nbconvert_exporter": "python",
   "pygments_lexer": "ipython3",
   "version": "3.10.12"
  }
 },
 "nbformat": 4,
 "nbformat_minor": 2
}
