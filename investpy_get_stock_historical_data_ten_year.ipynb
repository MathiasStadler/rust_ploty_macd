{
 "cells": [
  {
   "cell_type": "markdown",
   "metadata": {},
   "source": [
    "[FROM HERE](https://medium.com/@mlblogging.k/free-financial-data-sources-4283846ba9f5)"
   ]
  },
  {
   "cell_type": "markdown",
   "metadata": {},
   "source": [
    "## load libraries"
   ]
  },
  {
   "cell_type": "code",
   "execution_count": null,
   "metadata": {},
   "outputs": [],
   "source": [
    "%pip install --user investpy"
   ]
  },
  {
   "cell_type": "code",
   "execution_count": null,
   "metadata": {},
   "outputs": [],
   "source": [
    "import investpy\n",
    "df = investpy.get_stock_historical_data(\n",
    "stock='MSFT',\n",
    "country='United States',\n",
    "from_date='01/01/2023',\n",
    "to_date='11/07/2024'\n",
    ")\n",
    "print(df.head())"
   ]
  },
  {
   "cell_type": "markdown",
   "metadata": {},
   "source": [
    "## Stooq"
   ]
  },
  {
   "cell_type": "code",
   "execution_count": 5,
   "metadata": {},
   "outputs": [
    {
     "name": "stdout",
     "output_type": "stream",
     "text": [
      "Requirement already satisfied: pandas_datareader in /home/trapapa/.local/lib/python3.10/site-packages (0.10.0)\n",
      "Requirement already satisfied: lxml in /home/trapapa/.local/lib/python3.10/site-packages (from pandas_datareader) (5.2.2)\n",
      "Requirement already satisfied: requests>=2.19.0 in /home/trapapa/.local/lib/python3.10/site-packages (from pandas_datareader) (2.32.3)\n",
      "Requirement already satisfied: pandas>=0.23 in /home/trapapa/.local/lib/python3.10/site-packages (from pandas_datareader) (1.5.3)\n",
      "Requirement already satisfied: pytz>=2020.1 in /home/trapapa/.local/lib/python3.10/site-packages (from pandas>=0.23->pandas_datareader) (2024.1)\n",
      "Requirement already satisfied: numpy>=1.21.0 in /home/trapapa/.local/lib/python3.10/site-packages (from pandas>=0.23->pandas_datareader) (1.24.1)\n",
      "Requirement already satisfied: python-dateutil>=2.8.1 in /home/trapapa/.local/lib/python3.10/site-packages (from pandas>=0.23->pandas_datareader) (2.8.2)\n",
      "Requirement already satisfied: certifi>=2017.4.17 in /home/trapapa/.local/lib/python3.10/site-packages (from requests>=2.19.0->pandas_datareader) (2024.6.2)\n",
      "Requirement already satisfied: urllib3<3,>=1.21.1 in /usr/lib/python3/dist-packages (from requests>=2.19.0->pandas_datareader) (1.26.5)\n",
      "Requirement already satisfied: charset-normalizer<4,>=2 in /home/trapapa/.local/lib/python3.10/site-packages (from requests>=2.19.0->pandas_datareader) (3.3.2)\n",
      "Requirement already satisfied: idna<4,>=2.5 in /usr/lib/python3/dist-packages (from requests>=2.19.0->pandas_datareader) (3.3)\n",
      "Requirement already satisfied: six>=1.5 in /usr/lib/python3/dist-packages (from python-dateutil>=2.8.1->pandas>=0.23->pandas_datareader) (1.16.0)\n",
      "Note: you may need to restart the kernel to use updated packages.\n"
     ]
    }
   ],
   "source": [
    "%pip install --user pandas_datareader"
   ]
  },
  {
   "cell_type": "code",
   "execution_count": 10,
   "metadata": {},
   "outputs": [
    {
     "data": {
      "text/html": [
       "<div>\n",
       "<style scoped>\n",
       "    .dataframe tbody tr th:only-of-type {\n",
       "        vertical-align: middle;\n",
       "    }\n",
       "\n",
       "    .dataframe tbody tr th {\n",
       "        vertical-align: top;\n",
       "    }\n",
       "\n",
       "    .dataframe thead tr th {\n",
       "        text-align: left;\n",
       "    }\n",
       "\n",
       "    .dataframe thead tr:last-of-type th {\n",
       "        text-align: right;\n",
       "    }\n",
       "</style>\n",
       "<table border=\"1\" class=\"dataframe\">\n",
       "  <thead>\n",
       "    <tr>\n",
       "      <th>Attributes</th>\n",
       "      <th>Close</th>\n",
       "      <th>High</th>\n",
       "      <th>Low</th>\n",
       "      <th>Open</th>\n",
       "      <th>Volume</th>\n",
       "    </tr>\n",
       "    <tr>\n",
       "      <th>Symbols</th>\n",
       "      <th>TREX.US</th>\n",
       "      <th>TREX.US</th>\n",
       "      <th>TREX.US</th>\n",
       "      <th>TREX.US</th>\n",
       "      <th>TREX.US</th>\n",
       "    </tr>\n",
       "    <tr>\n",
       "      <th>Date</th>\n",
       "      <th></th>\n",
       "      <th></th>\n",
       "      <th></th>\n",
       "      <th></th>\n",
       "      <th></th>\n",
       "    </tr>\n",
       "  </thead>\n",
       "  <tbody>\n",
       "    <tr>\n",
       "      <th>2024-06-04</th>\n",
       "      <td>82.5200</td>\n",
       "      <td>84.6300</td>\n",
       "      <td>82.310</td>\n",
       "      <td>84.000</td>\n",
       "      <td>746417</td>\n",
       "    </tr>\n",
       "    <tr>\n",
       "      <th>2024-06-03</th>\n",
       "      <td>84.3800</td>\n",
       "      <td>86.8400</td>\n",
       "      <td>84.160</td>\n",
       "      <td>86.840</td>\n",
       "      <td>759527</td>\n",
       "    </tr>\n",
       "    <tr>\n",
       "      <th>2024-05-31</th>\n",
       "      <td>86.4800</td>\n",
       "      <td>86.5250</td>\n",
       "      <td>84.740</td>\n",
       "      <td>86.030</td>\n",
       "      <td>893154</td>\n",
       "    </tr>\n",
       "    <tr>\n",
       "      <th>2024-05-30</th>\n",
       "      <td>85.9500</td>\n",
       "      <td>86.6300</td>\n",
       "      <td>85.470</td>\n",
       "      <td>85.930</td>\n",
       "      <td>436687</td>\n",
       "    </tr>\n",
       "    <tr>\n",
       "      <th>2024-05-29</th>\n",
       "      <td>85.3800</td>\n",
       "      <td>86.5900</td>\n",
       "      <td>84.990</td>\n",
       "      <td>85.630</td>\n",
       "      <td>627429</td>\n",
       "    </tr>\n",
       "    <tr>\n",
       "      <th>...</th>\n",
       "      <td>...</td>\n",
       "      <td>...</td>\n",
       "      <td>...</td>\n",
       "      <td>...</td>\n",
       "      <td>...</td>\n",
       "    </tr>\n",
       "    <tr>\n",
       "      <th>2014-01-08</th>\n",
       "      <td>9.0590</td>\n",
       "      <td>9.1475</td>\n",
       "      <td>8.821</td>\n",
       "      <td>8.996</td>\n",
       "      <td>1915344</td>\n",
       "    </tr>\n",
       "    <tr>\n",
       "      <th>2014-01-07</th>\n",
       "      <td>8.9975</td>\n",
       "      <td>9.1500</td>\n",
       "      <td>8.786</td>\n",
       "      <td>9.079</td>\n",
       "      <td>3876080</td>\n",
       "    </tr>\n",
       "    <tr>\n",
       "      <th>2014-01-06</th>\n",
       "      <td>9.3600</td>\n",
       "      <td>9.6880</td>\n",
       "      <td>9.339</td>\n",
       "      <td>9.688</td>\n",
       "      <td>1331000</td>\n",
       "    </tr>\n",
       "    <tr>\n",
       "      <th>2014-01-03</th>\n",
       "      <td>9.6260</td>\n",
       "      <td>9.8340</td>\n",
       "      <td>9.540</td>\n",
       "      <td>9.619</td>\n",
       "      <td>1421392</td>\n",
       "    </tr>\n",
       "    <tr>\n",
       "      <th>2014-01-02</th>\n",
       "      <td>9.6210</td>\n",
       "      <td>10.0210</td>\n",
       "      <td>9.461</td>\n",
       "      <td>9.930</td>\n",
       "      <td>1752816</td>\n",
       "    </tr>\n",
       "  </tbody>\n",
       "</table>\n",
       "<p>2623 rows × 5 columns</p>\n",
       "</div>"
      ],
      "text/plain": [
       "Attributes    Close     High     Low    Open   Volume\n",
       "Symbols     TREX.US  TREX.US TREX.US TREX.US  TREX.US\n",
       "Date                                                 \n",
       "2024-06-04  82.5200  84.6300  82.310  84.000   746417\n",
       "2024-06-03  84.3800  86.8400  84.160  86.840   759527\n",
       "2024-05-31  86.4800  86.5250  84.740  86.030   893154\n",
       "2024-05-30  85.9500  86.6300  85.470  85.930   436687\n",
       "2024-05-29  85.3800  86.5900  84.990  85.630   627429\n",
       "...             ...      ...     ...     ...      ...\n",
       "2014-01-08   9.0590   9.1475   8.821   8.996  1915344\n",
       "2014-01-07   8.9975   9.1500   8.786   9.079  3876080\n",
       "2014-01-06   9.3600   9.6880   9.339   9.688  1331000\n",
       "2014-01-03   9.6260   9.8340   9.540   9.619  1421392\n",
       "2014-01-02   9.6210  10.0210   9.461   9.930  1752816\n",
       "\n",
       "[2623 rows x 5 columns]"
      ]
     },
     "execution_count": 10,
     "metadata": {},
     "output_type": "execute_result"
    }
   ],
   "source": [
    "import pandas_datareader as pdr\n",
    "dfr = pdr.stooq.StooqDailyReader(\n",
    "# symbols=[ 'META.US', 'MSFT.US', 'GOOG.US'],\n",
    "symbols=[ 'TREX.US'],\n",
    "start='1/1/14',\n",
    "end='31/12/24'\n",
    ")\n",
    "df = dfr.read()\n",
    "# print(df.head())\n",
    "df"
   ]
  }
 ],
 "metadata": {
  "kernelspec": {
   "display_name": "Python 3",
   "language": "python",
   "name": "python3"
  },
  "language_info": {
   "codemirror_mode": {
    "name": "ipython",
    "version": 3
   },
   "file_extension": ".py",
   "mimetype": "text/x-python",
   "name": "python",
   "nbconvert_exporter": "python",
   "pygments_lexer": "ipython3",
   "version": "3.10.12"
  }
 },
 "nbformat": 4,
 "nbformat_minor": 2
}
