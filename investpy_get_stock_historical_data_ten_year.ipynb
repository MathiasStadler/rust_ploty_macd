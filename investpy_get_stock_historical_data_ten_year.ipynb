{
 "cells": [
  {
   "cell_type": "markdown",
   "metadata": {},
   "source": [
    "[FROM HERE](https://medium.com/@mlblogging.k/free-financial-data-sources-4283846ba9f5)"
   ]
  },
  {
   "cell_type": "markdown",
   "metadata": {},
   "source": [
    "## load libraries"
   ]
  },
  {
   "cell_type": "code",
   "execution_count": null,
   "metadata": {},
   "outputs": [],
   "source": [
    "%pip install --user investpy"
   ]
  },
  {
   "cell_type": "code",
   "execution_count": null,
   "metadata": {},
   "outputs": [],
   "source": [
    "import investpy\n",
    "df = investpy.get_stock_historical_data(\n",
    "stock='MSFT',\n",
    "country='United States',\n",
    "from_date='01/01/2023',\n",
    "to_date='11/07/2024'\n",
    ")\n",
    "print(df.head())"
   ]
  },
  {
   "cell_type": "markdown",
   "metadata": {},
   "source": [
    "## Stooq -works 05.06.2024"
   ]
  },
  {
   "cell_type": "code",
   "execution_count": null,
   "metadata": {},
   "outputs": [],
   "source": [
    "%pip install --user pandas_datareader"
   ]
  },
  {
   "cell_type": "code",
   "execution_count": 3,
   "metadata": {},
   "outputs": [],
   "source": [
    "import pandas_datareader as pdr\n",
    "dfr = pdr.stooq.StooqDailyReader(\n",
    "# symbols=[ 'META.US', 'MSFT.US', 'GOOG.US'],\n",
    "symbols=[ 'TREX.US'],\n",
    "start='1/1/14',\n",
    "end='31/12/24'\n",
    ")\n",
    "df = dfr.read()\n",
    "# print(df.head())\n",
    "## save to file\n",
    "df.to_csv('TREX.csv')"
   ]
  },
  {
   "cell_type": "markdown",
   "metadata": {},
   "source": [
    "# yahoo"
   ]
  },
  {
   "cell_type": "code",
   "execution_count": null,
   "metadata": {},
   "outputs": [],
   "source": [
    "%pip install --user yfinance==0.2.40"
   ]
  },
  {
   "cell_type": "code",
   "execution_count": 12,
   "metadata": {},
   "outputs": [
    {
     "data": {
      "text/plain": [
       "yfinance.Ticker object <MSFT>"
      ]
     },
     "execution_count": 12,
     "metadata": {},
     "output_type": "execute_result"
    }
   ],
   "source": [
    "import yfinance as yf\n",
    "msft = yf.Ticker(\"MSFT\")\n",
    "# get stock info\n",
    "msft.info# get historical market data\n",
    "hist = msft.history(period=\"max\")# show actions (dividends, splits)\n",
    "msft.actions# show dividends\n",
    "msft.dividends# show splits\n",
    "msft.splits# show financials\n",
    "msft.financials\n",
    "msft.quarterly_financials# show major holders\n",
    "msft.major_holders# show institutional holders\n",
    "msft.institutional_holders# show balance sheet\n",
    "balance_sheet = msft.balance_sheet\n",
    "# balance_sheet\n",
    "msft.quarterly_balance_sheet# show cashflow\n",
    "msft.cashflow\n",
    "msft.quarterly_cashflow# show earnings\n",
    "# msft.earnings\n",
    "# msft.quarterly_earnings# show sustainability\n",
    "# msft.sustainability# show analysts recommendations\n",
    "msft.recommendations# show next event (earnings, etc)\n",
    "msft.calendar# show all earnings dates\n",
    "# msft.earnings_dates# show ISIN code - *experimental*\n",
    "# ISIN = International Securities Identification Number\n",
    "msft.isin# show options expirations\n",
    "msft.options# show news\n",
    "msft.news# get option chain for specific expiration\n",
    "# opt = msft.option_chain('2024-12-20')\n",
    "# opt\n",
    "\n",
    "\n",
    "# data available via: opt.calls, opt.puts"
   ]
  },
  {
   "cell_type": "markdown",
   "metadata": {},
   "source": [
    "[https://pythoninvest.com long-read via google](https://www.google.com/search?channel=fs&client=ubuntu-sn&q=https%3A%2F%2Fpythoninvest.com+long-read)"
   ]
  },
  {
   "cell_type": "markdown",
   "metadata": {},
   "source": [
    "## [stock fundamental-ratios](https://stackoverflow.com/questions/60428931/how-can-i-using-yfinance-to-get-fundamental-ratios-such-as-p-e-p-b)"
   ]
  },
  {
   "cell_type": "code",
   "execution_count": 2,
   "metadata": {},
   "outputs": [
    {
     "name": "stdout",
     "output_type": "stream",
     "text": [
      "Defaulting to user installation because normal site-packages is not writeable\n",
      "Requirement already satisfied: yahoo_fin in /home/trapapa/.local/lib/python3.10/site-packages (0.8.9.1)\n",
      "Requirement already satisfied: requests-html in /home/trapapa/.local/lib/python3.10/site-packages (from yahoo_fin) (0.10.0)\n",
      "Requirement already satisfied: feedparser in /home/trapapa/.local/lib/python3.10/site-packages (from yahoo_fin) (6.0.11)\n",
      "Requirement already satisfied: requests in /home/trapapa/.local/lib/python3.10/site-packages (from yahoo_fin) (2.32.3)\n",
      "Requirement already satisfied: pandas in /home/trapapa/.local/lib/python3.10/site-packages (from yahoo_fin) (1.5.3)\n",
      "Requirement already satisfied: sgmllib3k in /home/trapapa/.local/lib/python3.10/site-packages (from feedparser->yahoo_fin) (1.0.0)\n",
      "Requirement already satisfied: pytz>=2020.1 in /home/trapapa/.local/lib/python3.10/site-packages (from pandas->yahoo_fin) (2024.1)\n",
      "Requirement already satisfied: python-dateutil>=2.8.1 in /home/trapapa/.local/lib/python3.10/site-packages (from pandas->yahoo_fin) (2.8.2)\n",
      "Requirement already satisfied: numpy>=1.21.0 in /home/trapapa/.local/lib/python3.10/site-packages (from pandas->yahoo_fin) (1.24.1)\n",
      "Requirement already satisfied: urllib3<3,>=1.21.1 in /usr/lib/python3/dist-packages (from requests->yahoo_fin) (1.26.5)\n",
      "Requirement already satisfied: idna<4,>=2.5 in /usr/lib/python3/dist-packages (from requests->yahoo_fin) (3.3)\n",
      "Requirement already satisfied: certifi>=2017.4.17 in /home/trapapa/.local/lib/python3.10/site-packages (from requests->yahoo_fin) (2024.6.2)\n",
      "Requirement already satisfied: charset-normalizer<4,>=2 in /home/trapapa/.local/lib/python3.10/site-packages (from requests->yahoo_fin) (3.3.2)\n",
      "Requirement already satisfied: pyppeteer>=0.0.14 in /home/trapapa/.local/lib/python3.10/site-packages (from requests-html->yahoo_fin) (2.0.0)\n",
      "Requirement already satisfied: fake-useragent in /home/trapapa/.local/lib/python3.10/site-packages (from requests-html->yahoo_fin) (1.5.1)\n",
      "Requirement already satisfied: bs4 in /home/trapapa/.local/lib/python3.10/site-packages (from requests-html->yahoo_fin) (0.0.2)\n",
      "Requirement already satisfied: w3lib in /home/trapapa/.local/lib/python3.10/site-packages (from requests-html->yahoo_fin) (2.1.2)\n",
      "Requirement already satisfied: pyquery in /home/trapapa/.local/lib/python3.10/site-packages (from requests-html->yahoo_fin) (2.0.0)\n",
      "Requirement already satisfied: parse in /home/trapapa/.local/lib/python3.10/site-packages (from requests-html->yahoo_fin) (1.20.1)\n",
      "Requirement already satisfied: importlib-metadata>=1.4 in /usr/lib/python3/dist-packages (from pyppeteer>=0.0.14->requests-html->yahoo_fin) (4.6.4)\n",
      "Requirement already satisfied: pyee<12.0.0,>=11.0.0 in /home/trapapa/.local/lib/python3.10/site-packages (from pyppeteer>=0.0.14->requests-html->yahoo_fin) (11.1.0)\n",
      "Requirement already satisfied: appdirs<2.0.0,>=1.4.3 in /usr/lib/python3/dist-packages (from pyppeteer>=0.0.14->requests-html->yahoo_fin) (1.4.4)\n",
      "Requirement already satisfied: websockets<11.0,>=10.0 in /home/trapapa/.local/lib/python3.10/site-packages (from pyppeteer>=0.0.14->requests-html->yahoo_fin) (10.4)\n",
      "Requirement already satisfied: tqdm<5.0.0,>=4.42.1 in /home/trapapa/.local/lib/python3.10/site-packages (from pyppeteer>=0.0.14->requests-html->yahoo_fin) (4.66.4)\n",
      "Requirement already satisfied: six>=1.5 in /usr/lib/python3/dist-packages (from python-dateutil>=2.8.1->pandas->yahoo_fin) (1.16.0)\n",
      "Requirement already satisfied: beautifulsoup4 in /home/trapapa/.local/lib/python3.10/site-packages (from bs4->requests-html->yahoo_fin) (4.12.3)\n",
      "Requirement already satisfied: lxml>=2.1 in /home/trapapa/.local/lib/python3.10/site-packages (from pyquery->requests-html->yahoo_fin) (5.2.2)\n",
      "Requirement already satisfied: cssselect>=1.2.0 in /home/trapapa/.local/lib/python3.10/site-packages (from pyquery->requests-html->yahoo_fin) (1.2.0)\n",
      "Requirement already satisfied: typing-extensions in /home/trapapa/.local/lib/python3.10/site-packages (from pyee<12.0.0,>=11.0.0->pyppeteer>=0.0.14->requests-html->yahoo_fin) (4.12.1)\n",
      "Requirement already satisfied: soupsieve>1.2 in /usr/lib/python3/dist-packages (from beautifulsoup4->bs4->requests-html->yahoo_fin) (2.3.1)\n",
      "Note: you may need to restart the kernel to use updated packages.\n",
      "Defaulting to user installation because normal site-packages is not writeable\n",
      "Requirement already satisfied: requests_html in /home/trapapa/.local/lib/python3.10/site-packages (0.10.0)\n",
      "Requirement already satisfied: bs4 in /home/trapapa/.local/lib/python3.10/site-packages (from requests_html) (0.0.2)\n",
      "Requirement already satisfied: requests in /home/trapapa/.local/lib/python3.10/site-packages (from requests_html) (2.32.3)\n",
      "Requirement already satisfied: fake-useragent in /home/trapapa/.local/lib/python3.10/site-packages (from requests_html) (1.5.1)\n",
      "Requirement already satisfied: parse in /home/trapapa/.local/lib/python3.10/site-packages (from requests_html) (1.20.1)\n",
      "Requirement already satisfied: pyquery in /home/trapapa/.local/lib/python3.10/site-packages (from requests_html) (2.0.0)\n",
      "Requirement already satisfied: pyppeteer>=0.0.14 in /home/trapapa/.local/lib/python3.10/site-packages (from requests_html) (2.0.0)\n",
      "Requirement already satisfied: w3lib in /home/trapapa/.local/lib/python3.10/site-packages (from requests_html) (2.1.2)\n",
      "Requirement already satisfied: importlib-metadata>=1.4 in /usr/lib/python3/dist-packages (from pyppeteer>=0.0.14->requests_html) (4.6.4)\n",
      "Requirement already satisfied: pyee<12.0.0,>=11.0.0 in /home/trapapa/.local/lib/python3.10/site-packages (from pyppeteer>=0.0.14->requests_html) (11.1.0)\n",
      "Requirement already satisfied: certifi>=2023 in /home/trapapa/.local/lib/python3.10/site-packages (from pyppeteer>=0.0.14->requests_html) (2024.6.2)\n",
      "Requirement already satisfied: tqdm<5.0.0,>=4.42.1 in /home/trapapa/.local/lib/python3.10/site-packages (from pyppeteer>=0.0.14->requests_html) (4.66.4)\n",
      "Requirement already satisfied: websockets<11.0,>=10.0 in /home/trapapa/.local/lib/python3.10/site-packages (from pyppeteer>=0.0.14->requests_html) (10.4)\n",
      "Requirement already satisfied: appdirs<2.0.0,>=1.4.3 in /usr/lib/python3/dist-packages (from pyppeteer>=0.0.14->requests_html) (1.4.4)\n",
      "Requirement already satisfied: urllib3<2.0.0,>=1.25.8 in /usr/lib/python3/dist-packages (from pyppeteer>=0.0.14->requests_html) (1.26.5)\n",
      "Requirement already satisfied: beautifulsoup4 in /home/trapapa/.local/lib/python3.10/site-packages (from bs4->requests_html) (4.12.3)\n",
      "Requirement already satisfied: cssselect>=1.2.0 in /home/trapapa/.local/lib/python3.10/site-packages (from pyquery->requests_html) (1.2.0)\n",
      "Requirement already satisfied: lxml>=2.1 in /home/trapapa/.local/lib/python3.10/site-packages (from pyquery->requests_html) (5.2.2)\n",
      "Requirement already satisfied: charset-normalizer<4,>=2 in /home/trapapa/.local/lib/python3.10/site-packages (from requests->requests_html) (3.3.2)\n",
      "Requirement already satisfied: idna<4,>=2.5 in /usr/lib/python3/dist-packages (from requests->requests_html) (3.3)\n",
      "Requirement already satisfied: typing-extensions in /home/trapapa/.local/lib/python3.10/site-packages (from pyee<12.0.0,>=11.0.0->pyppeteer>=0.0.14->requests_html) (4.12.1)\n",
      "Requirement already satisfied: soupsieve>1.2 in /usr/lib/python3/dist-packages (from beautifulsoup4->bs4->requests_html) (2.3.1)\n",
      "Note: you may need to restart the kernel to use updated packages.\n"
     ]
    }
   ],
   "source": [
    "%pip install yahoo_fin\n",
    "%pip install requests_html"
   ]
  },
  {
   "cell_type": "code",
   "execution_count": 3,
   "metadata": {},
   "outputs": [
    {
     "ename": "IndexError",
     "evalue": "list index out of range",
     "output_type": "error",
     "traceback": [
      "\u001b[0;31m---------------------------------------------------------------------------\u001b[0m",
      "\u001b[0;31mIndexError\u001b[0m                                Traceback (most recent call last)",
      "Cell \u001b[0;32mIn[3], line 2\u001b[0m\n\u001b[1;32m      1\u001b[0m \u001b[38;5;28;01mimport\u001b[39;00m \u001b[38;5;21;01myahoo_fin\u001b[39;00m\u001b[38;5;21;01m.\u001b[39;00m\u001b[38;5;21;01mstock_info\u001b[39;00m \u001b[38;5;28;01mas\u001b[39;00m \u001b[38;5;21;01msi\u001b[39;00m\n\u001b[0;32m----> 2\u001b[0m msft_data \u001b[38;5;241m=\u001b[39m \u001b[43msi\u001b[49m\u001b[38;5;241;43m.\u001b[39;49m\u001b[43mget_quote_table\u001b[49m\u001b[43m(\u001b[49m\u001b[38;5;124;43m\"\u001b[39;49m\u001b[38;5;124;43mMSFT\u001b[39;49m\u001b[38;5;124;43m\"\u001b[39;49m\u001b[43m)\u001b[49m\n",
      "File \u001b[0;32m~/.local/lib/python3.10/site-packages/yahoo_fin/stock_info.py:295\u001b[0m, in \u001b[0;36mget_quote_table\u001b[0;34m(ticker, dict_result, headers)\u001b[0m\n\u001b[1;32m    291\u001b[0m site \u001b[38;5;241m=\u001b[39m \u001b[38;5;124m\"\u001b[39m\u001b[38;5;124mhttps://finance.yahoo.com/quote/\u001b[39m\u001b[38;5;124m\"\u001b[39m \u001b[38;5;241m+\u001b[39m ticker \u001b[38;5;241m+\u001b[39m \u001b[38;5;124m\"\u001b[39m\u001b[38;5;124m?p=\u001b[39m\u001b[38;5;124m\"\u001b[39m \u001b[38;5;241m+\u001b[39m ticker\n\u001b[1;32m    293\u001b[0m tables \u001b[38;5;241m=\u001b[39m pd\u001b[38;5;241m.\u001b[39mread_html(requests\u001b[38;5;241m.\u001b[39mget(site, headers\u001b[38;5;241m=\u001b[39mheaders)\u001b[38;5;241m.\u001b[39mtext)\n\u001b[0;32m--> 295\u001b[0m data \u001b[38;5;241m=\u001b[39m tables[\u001b[38;5;241m0\u001b[39m]\u001b[38;5;241m.\u001b[39mappend(\u001b[43mtables\u001b[49m\u001b[43m[\u001b[49m\u001b[38;5;241;43m1\u001b[39;49m\u001b[43m]\u001b[49m)\n\u001b[1;32m    297\u001b[0m data\u001b[38;5;241m.\u001b[39mcolumns \u001b[38;5;241m=\u001b[39m [\u001b[38;5;124m\"\u001b[39m\u001b[38;5;124mattribute\u001b[39m\u001b[38;5;124m\"\u001b[39m , \u001b[38;5;124m\"\u001b[39m\u001b[38;5;124mvalue\u001b[39m\u001b[38;5;124m\"\u001b[39m]\n\u001b[1;32m    299\u001b[0m quote_price \u001b[38;5;241m=\u001b[39m pd\u001b[38;5;241m.\u001b[39mDataFrame([\u001b[38;5;124m\"\u001b[39m\u001b[38;5;124mQuote Price\u001b[39m\u001b[38;5;124m\"\u001b[39m, get_live_price(ticker)])\u001b[38;5;241m.\u001b[39mtranspose()\n",
      "\u001b[0;31mIndexError\u001b[0m: list index out of range"
     ]
    }
   ],
   "source": [
    "import yahoo_fin.stock_info as si\n",
    "msft_data = si.get_quote_table(\"MSFT\")"
   ]
  },
  {
   "cell_type": "code",
   "execution_count": 5,
   "metadata": {},
   "outputs": [],
   "source": [
    "# works\n",
    "from IPython.core.interactiveshell import InteractiveShell\n",
    "import yfinance as yf\n",
    "InteractiveShell.ast_node_interactivity = \"all\"\n",
    "\n",
    "import pandas as pd\n",
    "microsoft = yf.Ticker('MSFT')\n",
    "dict =  microsoft.info\n",
    "df = pd.DataFrame.from_dict(dict,orient='index')\n",
    "df = df.reset_index()\n",
    "df.to_csv('TREX_stock_data.csv')"
   ]
  }
 ],
 "metadata": {
  "kernelspec": {
   "display_name": "Python 3",
   "language": "python",
   "name": "python3"
  },
  "language_info": {
   "codemirror_mode": {
    "name": "ipython",
    "version": 3
   },
   "file_extension": ".py",
   "mimetype": "text/x-python",
   "name": "python",
   "nbconvert_exporter": "python",
   "pygments_lexer": "ipython3",
   "version": "3.10.12"
  }
 },
 "nbformat": 4,
 "nbformat_minor": 2
}
