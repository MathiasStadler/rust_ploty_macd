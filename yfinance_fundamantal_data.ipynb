{
 "cells": [
  {
   "cell_type": "markdown",
   "metadata": {},
   "source": [
    "# [FROM HERE](https://www.qmr.ai/yfinance-library-the-definitive-guide/?utm_content=cmp-true)"
   ]
  },
  {
   "cell_type": "markdown",
   "metadata": {},
   "source": [
    "# Load libraries"
   ]
  },
  {
   "cell_type": "code",
   "execution_count": null,
   "metadata": {},
   "outputs": [],
   "source": [
    "%pip install --user yfinance==0.2.40\n",
    "%pip install pandas_datareader"
   ]
  },
  {
   "cell_type": "code",
   "execution_count": null,
   "metadata": {},
   "outputs": [],
   "source": [
    "# IMPORT THE LIBRARY\n",
    "\n",
    "import yfinance as yf\n",
    "from datetime import datetime\n",
    "\n",
    "# CREATE TICKER INSTANCE FOR AMAZON\n",
    "amzn = yf.Ticker(\"TREX\")\n",
    "\n",
    "# GET TODAYS DATE AND CONVERT IT TO A STRING WITH YYYY-MM-DD FORMAT (YFINANCE EXPECTS THAT FORMAT)\n",
    "end_date = datetime.now().strftime('%Y-%m-%d')\n",
    "amzn_hist = amzn.history(start='2022-01-01',end=end_date)\n",
    "print(amzn_hist)"
   ]
  },
  {
   "cell_type": "code",
   "execution_count": null,
   "metadata": {},
   "outputs": [],
   "source": [
    "# GETTING THE MAX AMOUNT OF RECENT 1 MINUTE DATA.\n",
    "# OBSERVATION: THE VARIABLE 'end_date' WAS DECLARED IN THE PREVIOUS CODE SNIPPED\n",
    "amzn_hist = amzn.history(period='max',end=end_date,interval='1m')\n",
    "amzn_hist"
   ]
  },
  {
   "cell_type": "code",
   "execution_count": null,
   "metadata": {},
   "outputs": [],
   "source": [
    "# companies = ['TREX','AMZN','GOOG','WMT','TSLA','META']\n",
    "companies = ['TREX']\n",
    "# companies = ['TREX'] \n",
    "tickers = yf.Tickers(companies)\n",
    "tickers_hist = tickers.history(period='max',end=end_date,interval='1m',)\n",
    "\n",
    "# TRANSFORM MULTI-LEVEL INDEX INTO A SINGLE-INDEX SET OF COLUMNS.\n",
    "tickers_hist.stack(level=1).rename_axis(['Date', 'Ticker']).reset_index(level=1)\n",
    "\n",
    "tickers_hist\n",
    "\n",
    "# THIS CODE SNIPPET SAVES THE ENTIRE DATAFRAME IN A CSV FILE\n",
    "# tickers_hist.to_csv('TREX.csv')\n"
   ]
  },
  {
   "cell_type": "markdown",
   "metadata": {},
   "source": [
    "## Fetch fundamental data using yfinance"
   ]
  },
  {
   "cell_type": "code",
   "execution_count": null,
   "metadata": {},
   "outputs": [],
   "source": [
    "import yfinance as yf\n",
    "\n",
    "# CREATE A TICKER INSTANCE PASSING TESLA AS THE TARGET COMPANY\n",
    "stock = yf.Ticker('TREX')\n",
    "\n",
    "# CALL THE MULTIPLE FUNCTIONS AVAILABLE AND STORE THEM IN VARIABLES.\n",
    "actions = stock.get_actions()\n",
    "# analysis = stock.get_analysis()\n",
    "balance = stock.get_balance_sheet()\n",
    "calendar = stock.get_calendar()\n",
    "cf = stock.get_cashflow()\n",
    "info = stock.get_info()\n",
    "inst_holders = stock.get_institutional_holders()\n",
    "news = stock.get_news()\n",
    "recommendations = stock.get_recommendations()\n",
    "# sustainability = stock.get_sustainability()\n",
    "earnings = stock.get_earnings\n",
    "earnings_dates = stock.get_earnings_dates\n",
    "earnings_forecast = stock.get_earnings_forecast\n",
    "earnings_trend = stock.get_earnings_trend\n",
    "\n",
    "# # PRINT THE RESULTS\n",
    "# print(actions)\n",
    "# print('*'*20)\n",
    "# # print(analysis)\n",
    "# # print('*'*20)\n",
    "# print(balance)\n",
    "# print('*'*20)\n",
    "# print(calendar)\n",
    "# print('*'*20)\n",
    "# print(cf)\n",
    "# print('*'*20)\n",
    "# print(info)\n",
    "# print('*'*20)\n",
    "# print(inst_holders)\n",
    "# print('*'*20)\n",
    "# print(news)\n",
    "# print('*'*20)\n",
    "# print(recommendations)\n",
    "# print('*'*20)\n",
    "print(earnings)\n",
    "print('*'*20)\n",
    "# print(earnings_dates)\n",
    "# print('*'*20)\n",
    "# print(earnings_forecast)\n",
    "# print('*'*20)\n",
    "# print(earnings_trend)\n",
    "# print('*'*20)\n",
    "\n",
    "# translate to german =>sustainability -> Nachhaltigkeit\n",
    "# print(sustainability)\n",
    "# print('*'*20)"
   ]
  },
  {
   "cell_type": "markdown",
   "metadata": {},
   "source": [
    "## Tips and tricks using yfinance Plotting a Candlestick Chart using yfinance and finplot"
   ]
  },
  {
   "cell_type": "code",
   "execution_count": null,
   "metadata": {},
   "outputs": [],
   "source": [
    "%pip install finplot"
   ]
  },
  {
   "cell_type": "code",
   "execution_count": null,
   "metadata": {},
   "outputs": [],
   "source": [
    "%pip install finplot"
   ]
  },
  {
   "cell_type": "code",
   "execution_count": null,
   "metadata": {},
   "outputs": [],
   "source": [
    "import finplot as fplt\n",
    "import yfinance\n",
    "df = yfinance.download('AAPL')\n",
    "ax = fplt.create_plot()\n",
    "fplt.candlestick_ochl(df[['Open', 'Close', 'High', 'Low']], ax=ax)\n",
    "fplt.show()"
   ]
  }
 ],
 "metadata": {
  "kernelspec": {
   "display_name": "Python 3",
   "language": "python",
   "name": "python3"
  },
  "language_info": {
   "codemirror_mode": {
    "name": "ipython",
    "version": 3
   },
   "file_extension": ".py",
   "mimetype": "text/x-python",
   "name": "python",
   "nbconvert_exporter": "python",
   "pygments_lexer": "ipython3",
   "version": "3.10.12"
  }
 },
 "nbformat": 4,
 "nbformat_minor": 2
}
